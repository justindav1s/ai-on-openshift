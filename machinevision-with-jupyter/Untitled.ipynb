{
 "cells": [
  {
   "cell_type": "code",
   "execution_count": 1,
   "metadata": {},
   "outputs": [
    {
     "name": "stdout",
     "output_type": "stream",
     "text": [
      "Collecting cifar2png\n",
      "  Downloading https://files.pythonhosted.org/packages/55/06/fc09a8b88fc2c8cce1266c333478589b5cab7bc4a55d793dbfe4a8cf673e/cifar2png-0.0.3.tar.gz\n",
      "Requirement already satisfied: numpy in /opt/app-root/lib/python3.6/site-packages (from cifar2png) (1.17.0)\n",
      "Collecting pathlib (from cifar2png)\n",
      "\u001b[?25l  Downloading https://files.pythonhosted.org/packages/ac/aa/9b065a76b9af472437a0059f77e8f962fe350438b927cb80184c32f075eb/pathlib-1.0.1.tar.gz (49kB)\n",
      "\u001b[K     |████████████████████████████████| 51kB 2.1MB/s \n",
      "\u001b[?25hRequirement already satisfied: Pillow in /opt/app-root/lib/python3.6/site-packages (from cifar2png) (6.1.0)\n",
      "Requirement already satisfied: requests in /opt/app-root/lib/python3.6/site-packages (from cifar2png) (2.22.0)\n",
      "Requirement already satisfied: six in /opt/app-root/lib/python3.6/site-packages (from cifar2png) (1.12.0)\n",
      "Collecting tqdm (from cifar2png)\n",
      "\u001b[?25l  Downloading https://files.pythonhosted.org/packages/9f/3d/7a6b68b631d2ab54975f3a4863f3c4e9b26445353264ef01f465dc9b0208/tqdm-4.32.2-py2.py3-none-any.whl (50kB)\n",
      "\u001b[K     |████████████████████████████████| 51kB 22.5MB/s \n",
      "\u001b[?25hRequirement already satisfied: chardet<3.1.0,>=3.0.2 in /opt/app-root/lib/python3.6/site-packages (from requests->cifar2png) (3.0.4)\n",
      "Requirement already satisfied: idna<2.9,>=2.5 in /opt/app-root/lib/python3.6/site-packages (from requests->cifar2png) (2.8)\n",
      "Requirement already satisfied: certifi>=2017.4.17 in /opt/app-root/lib/python3.6/site-packages (from requests->cifar2png) (2019.6.16)\n",
      "Requirement already satisfied: urllib3!=1.25.0,!=1.25.1,<1.26,>=1.21.1 in /opt/app-root/lib/python3.6/site-packages (from requests->cifar2png) (1.25.3)\n",
      "Building wheels for collected packages: cifar2png, pathlib\n",
      "  Building wheel for cifar2png (setup.py) ... \u001b[?25ldone\n",
      "\u001b[?25h  Created wheel for cifar2png: filename=cifar2png-0.0.3-cp36-none-any.whl size=5916 sha256=f352777d08466e632b42915a89b16022b4dc12720675cf6f49adaaa98cc3b848\n",
      "  Stored in directory: /tmp/pip-ephem-wheel-cache-xe0c_w6h/wheels/77/f4/46/e443f88b6d1ef6aad918afed49e3760379000536aef674e56b\n",
      "  Building wheel for pathlib (setup.py) ... \u001b[?25ldone\n",
      "\u001b[?25h  Created wheel for pathlib: filename=pathlib-1.0.1-cp36-none-any.whl size=14347 sha256=c20f98d264e002a34b54c79bcf2741dca2e737ba4c4a433964e2eeea64d7acdc\n",
      "  Stored in directory: /tmp/pip-ephem-wheel-cache-xe0c_w6h/wheels/f9/b2/4a/68efdfe5093638a9918bd1bb734af625526e849487200aa171\n",
      "Successfully built cifar2png pathlib\n",
      "Installing collected packages: pathlib, tqdm, cifar2png\n",
      "Successfully installed cifar2png-0.0.3 pathlib-1.0.1 tqdm-4.32.2\n"
     ]
    }
   ],
   "source": [
    "!pip install cifar2png"
   ]
  },
  {
   "cell_type": "code",
   "execution_count": 3,
   "metadata": {},
   "outputs": [
    {
     "name": "stdout",
     "output_type": "stream",
     "text": [
      "cifar-10-python.tar.gz does not exists.\n",
      "Downloading cifar-10-python.tar.gz\n",
      "167kKB [00:14, 11.3kKB/s]                                                       \n",
      "Saving train images: 100%|██████████████| 50000/50000 [00:34<00:00, 1431.99it/s]\n",
      "Saving test images: 100%|███████████████| 10000/10000 [00:03<00:00, 2641.03it/s]\n"
     ]
    }
   ],
   "source": [
    "!cifar2png cifar10 images"
   ]
  },
  {
   "cell_type": "code",
   "execution_count": null,
   "metadata": {},
   "outputs": [],
   "source": []
  }
 ],
 "metadata": {
  "kernelspec": {
   "display_name": "Python 3",
   "language": "python",
   "name": "python3"
  },
  "language_info": {
   "codemirror_mode": {
    "name": "ipython",
    "version": 3
   },
   "file_extension": ".py",
   "mimetype": "text/x-python",
   "name": "python",
   "nbconvert_exporter": "python",
   "pygments_lexer": "ipython3",
   "version": "3.6.3"
  }
 },
 "nbformat": 4,
 "nbformat_minor": 2
}
