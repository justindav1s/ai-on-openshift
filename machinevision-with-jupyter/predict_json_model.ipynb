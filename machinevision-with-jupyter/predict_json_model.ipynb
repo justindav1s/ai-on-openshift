{
 "cells": [
  {
   "cell_type": "code",
   "execution_count": 1,
   "metadata": {
    "scrolled": true
   },
   "outputs": [
    {
     "name": "stdout",
     "output_type": "stream",
     "text": [
      "Requirement already satisfied: opencv-python in /usr/local/lib/python2.7/dist-packages (3.4.3.18)\n",
      "Requirement already satisfied: wget in /usr/local/lib/python2.7/dist-packages (3.2)\n",
      "Requirement already satisfied: matplotlib in /usr/local/lib/python2.7/dist-packages (2.2.3)\n",
      "Requirement already satisfied: numpy>=1.11.1 in /usr/local/lib/python2.7/dist-packages (from opencv-python) (1.15.2)\n",
      "Requirement already satisfied: pyparsing!=2.0.4,!=2.1.2,!=2.1.6,>=2.0.1 in /usr/local/lib/python2.7/dist-packages (from matplotlib) (2.2.1)\n",
      "Requirement already satisfied: backports.functools-lru-cache in /usr/local/lib/python2.7/dist-packages (from matplotlib) (1.5)\n",
      "Requirement already satisfied: subprocess32 in /usr/local/lib/python2.7/dist-packages (from matplotlib) (3.5.2)\n",
      "Requirement already satisfied: pytz in /usr/local/lib/python2.7/dist-packages (from matplotlib) (2018.5)\n",
      "Requirement already satisfied: six>=1.10 in /usr/local/lib/python2.7/dist-packages (from matplotlib) (1.11.0)\n",
      "Requirement already satisfied: python-dateutil>=2.1 in /usr/local/lib/python2.7/dist-packages (from matplotlib) (2.7.3)\n",
      "Requirement already satisfied: kiwisolver>=1.0.1 in /usr/local/lib/python2.7/dist-packages (from matplotlib) (1.0.1)\n",
      "Requirement already satisfied: cycler>=0.10 in /usr/local/lib/python2.7/dist-packages (from matplotlib) (0.10.0)\n",
      "Requirement already satisfied: setuptools in /usr/local/lib/python2.7/dist-packages (from kiwisolver>=1.0.1->matplotlib) (39.1.0)\n",
      "\u001b[33mYou are using pip version 18.0, however version 18.1 is available.\n",
      "You should consider upgrading via the 'pip install --upgrade pip' command.\u001b[0m\n",
      "Get:1 file:/var/nvinfer-runtime-trt-repo-4.0.1-ga-cuda9.0  InRelease\n",
      "Ign:1 file:/var/nvinfer-runtime-trt-repo-4.0.1-ga-cuda9.0  InRelease\n",
      "Get:2 file:/var/nvinfer-runtime-trt-repo-4.0.1-ga-cuda9.0  Release [574 B]\n",
      "Get:2 file:/var/nvinfer-runtime-trt-repo-4.0.1-ga-cuda9.0  Release [574 B]\n",
      "Hit:3 http://archive.ubuntu.com/ubuntu xenial InRelease                        \u001b[0m\n",
      "Hit:4 http://security.ubuntu.com/ubuntu xenial-security InRelease      \u001b[0m    \n",
      "Hit:6 http://archive.ubuntu.com/ubuntu xenial-updates InRelease        \n",
      "Hit:7 http://archive.ubuntu.com/ubuntu xenial-backports InRelease\n",
      "Ign:8 https://developer.download.nvidia.com/compute/cuda/repos/ubuntu1604/x86_64  InRelease\n",
      "Ign:9 https://developer.download.nvidia.com/compute/machine-learning/repos/ubuntu1604/x86_64  InRelease\n",
      "Hit:10 https://developer.download.nvidia.com/compute/cuda/repos/ubuntu1604/x86_64  Release\n",
      "Hit:11 https://developer.download.nvidia.com/compute/machine-learning/repos/ubuntu1604/x86_64  Release\n",
      "Reading package lists... Done[0m\u001b[33m\u001b[33m\n",
      "Building dependency tree       \n",
      "Reading state information... Done\n",
      "15 packages can be upgraded. Run 'apt list --upgradable' to see them.\n",
      "Reading package lists... Done\n",
      "Building dependency tree        \n",
      "Reading state information... Done\n",
      "libsm6 is already the newest version (2:1.2.2-1).\n",
      "libxext6 is already the newest version (2:1.3.3-1).\n",
      "libgtk2.0-dev is already the newest version (2.24.30-1ubuntu1.16.04.2).\n",
      "0 upgraded, 0 newly installed, 0 to remove and 15 not upgraded.\n"
     ]
    }
   ],
   "source": [
    "!pip install opencv-python wget matplotlib\n",
    "!apt update && apt install -y libsm6 libxext6 libgtk2.0-dev"
   ]
  },
  {
   "cell_type": "code",
   "execution_count": 53,
   "metadata": {},
   "outputs": [],
   "source": [
    "from __future__ import print_function\n",
    "import numpy as np\n",
    "import cv2\n",
    "import cPickle\n",
    "import matplotlib.pyplot as plt\n",
    "from keras.models import model_from_json\n",
    "\n",
    "def extractImagesAndLabels(path, file):\n",
    "    f = open(path+file, 'rb')\n",
    "    dict = cPickle.load(f)\n",
    "    images = dict['data']\n",
    "    images = np.reshape(images, (10000, 3, 32, 32))\n",
    "    labels = dict['labels']\n",
    "    return images, labels\n",
    "\n",
    "images, labels = extractImagesAndLabels(\"../data/CIFAR-10/cifar-10-batches-py/\", \"test_batch\")\n",
    "\n",
    "def extractCategories(path, file):\n",
    "    f = open(path+file, 'rb')\n",
    "    dict = cPickle.load(f)\n",
    "    return dict['label_names']\n",
    "\n",
    "categories = extractCategories(\"../data/CIFAR-10/cifar-10-batches-py/\", \"batches.meta\")\n",
    "\n",
    "def getImage(images, id):\n",
    "    image = images[id]\n",
    "    image = image.transpose([1, 2, 0])\n",
    "    image = image.astype('float32')\n",
    "    image /= 255\n",
    "    return image\n",
    "\n",
    "def loadModel(json_desc, weights):\n",
    "    # load json and create model\n",
    "    json_file = open(json_desc, 'r')\n",
    "    loaded_model_json = json_file.read()\n",
    "    json_file.close()\n",
    "    loaded_model = model_from_json(loaded_model_json)\n",
    "    # load weights into new model\n",
    "    loaded_model.load_weights(weights)\n",
    "    return loaded_model\n",
    "    \n",
    "model = loadModel('model.json', 'model.h5')\n",
    "\n",
    "def showImage(id):\n",
    "    image = getImage(images,id)\n",
    "    %matplotlib inline\n",
    "    imgplot = plt.imshow(image)\n",
    "    labelid = labels[id]\n",
    "    category = categories[labelid]\n",
    "    print(\"category : \"+category)    \n",
    "\n",
    "def predictImage(id):\n",
    "    image = getImage(images, id)\n",
    "    showImage(id)\n",
    "    image = np.expand_dims(image, axis=0)\n",
    "    result = model.predict(image)\n",
    "    result = result[0].tolist()\n",
    "    best_index=result.index(max(result))\n",
    "    print (\"prediction : \"+categories[best_index])"
   ]
  },
  {
   "cell_type": "code",
   "execution_count": 62,
   "metadata": {
    "scrolled": true
   },
   "outputs": [
    {
     "name": "stdout",
     "output_type": "stream",
     "text": [
      "category : frog\n",
      "prediction : frog\n"
     ]
    },
    {
     "data": {
      "image/png": "[encoded data removed]",
      "text/plain": [
       "<Figure size 432x288 with 1 Axes>"
      ]
     },
     "metadata": {
      "needs_background": "light"
     },
     "output_type": "display_data"
    }
   ],
   "source": [
    "predictImage(19)"
   ]
  },
  {
   "cell_type": "code",
   "execution_count": null,
   "metadata": {},
   "outputs": [],
   "source": []
  }
 ],
 "metadata": {
  "kernelspec": {
   "display_name": "Python 3",
   "language": "python",
   "name": "python3"
  },
  "language_info": {
   "codemirror_mode": {
    "name": "ipython",
    "version": 3
   },
   "file_extension": ".py",
   "mimetype": "text/x-python",
   "name": "python",
   "nbconvert_exporter": "python",
   "pygments_lexer": "ipython3",
   "version": "3.6.3"
  }
 },
 "nbformat": 4,
 "nbformat_minor": 2
}
