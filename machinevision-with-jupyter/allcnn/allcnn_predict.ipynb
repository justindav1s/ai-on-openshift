{
 "cells": [
  {
   "cell_type": "code",
   "execution_count": 1,
   "metadata": {
    "scrolled": true
   },
   "outputs": [
    {
     "name": "stdout",
     "output_type": "stream",
     "text": [
      "Requirement already satisfied: opencv-python in /opt/app-root/lib/python3.6/site-packages (4.1.0.25)\n",
      "Requirement already satisfied: wget in /opt/app-root/lib/python3.6/site-packages (3.2)\n",
      "Requirement already satisfied: matplotlib in /opt/app-root/lib/python3.6/site-packages (2.2.4)\n",
      "Requirement already satisfied: numpy>=1.11.3 in /opt/app-root/lib/python3.6/site-packages (from opencv-python) (1.17.0)\n",
      "Requirement already satisfied: pyparsing!=2.0.4,!=2.1.2,!=2.1.6,>=2.0.1 in /opt/app-root/lib/python3.6/site-packages (from matplotlib) (2.4.1.1)\n",
      "Requirement already satisfied: six>=1.10 in /opt/app-root/lib/python3.6/site-packages (from matplotlib) (1.12.0)\n",
      "Requirement already satisfied: kiwisolver>=1.0.1 in /opt/app-root/lib/python3.6/site-packages (from matplotlib) (1.1.0)\n",
      "Requirement already satisfied: cycler>=0.10 in /opt/app-root/lib/python3.6/site-packages (from matplotlib) (0.10.0)\n",
      "Requirement already satisfied: pytz in /opt/app-root/lib/python3.6/site-packages (from matplotlib) (2019.1)\n",
      "Requirement already satisfied: python-dateutil>=2.1 in /opt/app-root/lib/python3.6/site-packages (from matplotlib) (2.8.0)\n",
      "Requirement already satisfied: setuptools in /opt/app-root/lib/python3.6/site-packages (from kiwisolver>=1.0.1->matplotlib) (41.0.1)\n"
     ]
    }
   ],
   "source": [
    "!pip install opencv-python wget matplotlib"
   ]
  },
  {
   "cell_type": "code",
   "execution_count": 1,
   "metadata": {},
   "outputs": [
    {
     "name": "stderr",
     "output_type": "stream",
     "text": [
      "Using TensorFlow backend.\n"
     ]
    },
    {
     "ename": "FileNotFoundError",
     "evalue": "[Errno 2] No such file or directory: 'allcnn_model_78.json'",
     "output_type": "error",
     "traceback": [
      "\u001b[0;31m---------------------------------------------------------------------------\u001b[0m",
      "\u001b[0;31mFileNotFoundError\u001b[0m                         Traceback (most recent call last)",
      "\u001b[0;32m<ipython-input-1-7c62670455ba>\u001b[0m in \u001b[0;36m<module>\u001b[0;34m\u001b[0m\n\u001b[1;32m     21\u001b[0m     \u001b[0;32mreturn\u001b[0m \u001b[0mloaded_model\u001b[0m\u001b[0;34m\u001b[0m\u001b[0m\n\u001b[1;32m     22\u001b[0m \u001b[0;34m\u001b[0m\u001b[0m\n\u001b[0;32m---> 23\u001b[0;31m \u001b[0mmodel\u001b[0m \u001b[0;34m=\u001b[0m \u001b[0mloadModel\u001b[0m\u001b[0;34m(\u001b[0m\u001b[0;34m'allcnn_model_78.json'\u001b[0m\u001b[0;34m,\u001b[0m \u001b[0;34m'allcnn_model_78.h5'\u001b[0m\u001b[0;34m)\u001b[0m\u001b[0;34m\u001b[0m\u001b[0m\n\u001b[0m\u001b[1;32m     24\u001b[0m \u001b[0;34m\u001b[0m\u001b[0m\n\u001b[1;32m     25\u001b[0m \u001b[0;32mdef\u001b[0m \u001b[0mtransformImage\u001b[0m\u001b[0;34m(\u001b[0m\u001b[0mimage\u001b[0m\u001b[0;34m)\u001b[0m\u001b[0;34m:\u001b[0m\u001b[0;34m\u001b[0m\u001b[0m\n",
      "\u001b[0;32m<ipython-input-1-7c62670455ba>\u001b[0m in \u001b[0;36mloadModel\u001b[0;34m(json_desc, weights)\u001b[0m\n\u001b[1;32m     13\u001b[0m \u001b[0;32mdef\u001b[0m \u001b[0mloadModel\u001b[0m\u001b[0;34m(\u001b[0m\u001b[0mjson_desc\u001b[0m\u001b[0;34m,\u001b[0m \u001b[0mweights\u001b[0m\u001b[0;34m)\u001b[0m\u001b[0;34m:\u001b[0m\u001b[0;34m\u001b[0m\u001b[0m\n\u001b[1;32m     14\u001b[0m     \u001b[0;31m# load json and create model\u001b[0m\u001b[0;34m\u001b[0m\u001b[0;34m\u001b[0m\u001b[0m\n\u001b[0;32m---> 15\u001b[0;31m     \u001b[0mjson_file\u001b[0m \u001b[0;34m=\u001b[0m \u001b[0mopen\u001b[0m\u001b[0;34m(\u001b[0m\u001b[0mjson_desc\u001b[0m\u001b[0;34m,\u001b[0m \u001b[0;34m'r'\u001b[0m\u001b[0;34m)\u001b[0m\u001b[0;34m\u001b[0m\u001b[0m\n\u001b[0m\u001b[1;32m     16\u001b[0m     \u001b[0mloaded_model_json\u001b[0m \u001b[0;34m=\u001b[0m \u001b[0mjson_file\u001b[0m\u001b[0;34m.\u001b[0m\u001b[0mread\u001b[0m\u001b[0;34m(\u001b[0m\u001b[0;34m)\u001b[0m\u001b[0;34m\u001b[0m\u001b[0m\n\u001b[1;32m     17\u001b[0m     \u001b[0mjson_file\u001b[0m\u001b[0;34m.\u001b[0m\u001b[0mclose\u001b[0m\u001b[0;34m(\u001b[0m\u001b[0;34m)\u001b[0m\u001b[0;34m\u001b[0m\u001b[0m\n",
      "\u001b[0;31mFileNotFoundError\u001b[0m: [Errno 2] No such file or directory: 'allcnn_model_78.json'"
     ]
    }
   ],
   "source": [
    "from __future__ import print_function\n",
    "import numpy as np\n",
    "import matplotlib.pyplot as plt\n",
    "from keras.models import model_from_json\n",
    "from PIL import Image\n",
    "from urllib.request import urlopen\n",
    "\n",
    "import tensorflow as tf\n",
    "tf.logging.set_verbosity(tf.logging.ERROR)\n",
    "\n",
    "categories = ['airplane', 'automobile', 'bird', 'cat', 'deer', 'dog', 'frog', 'horse', 'ship', 'truck']\n",
    "\n",
    "def loadModel(json_desc, weights):\n",
    "    # load json and create model\n",
    "    json_file = open(json_desc, 'r')\n",
    "    loaded_model_json = json_file.read()\n",
    "    json_file.close()\n",
    "    loaded_model = model_from_json(loaded_model_json)\n",
    "    # load weights into new model\n",
    "    loaded_model.load_weights(weights)\n",
    "    return loaded_model\n",
    "    \n",
    "model = loadModel('allcnn_model_78.json', 'allcnn_model_78.h5')\n",
    "\n",
    "def transformImage(image):    \n",
    "    data = np.reshape(img, (1, 32, 32, 3))\n",
    "    data = data.astype('float32')\n",
    "    data /= 255\n",
    "    return data\n",
    "    \n",
    "def predictImage(image):\n",
    "    imgarr = np.asarray(image)\n",
    "    imaget = transformImage(imgarr)\n",
    "    result = model.predict(imaget)\n",
    "    result = result[0].tolist()\n",
    "    best_index=result.index(max(result))\n",
    "    best_prob = result[best_index]\n",
    "    \n",
    "    result[best_index] = 0    \n",
    "    sec_best_index=result.index(max(result))\n",
    "    sec_best_prob = result[sec_best_index]\n",
    "\n",
    "    result[sec_best_index] = 0    \n",
    "    thd_best_index=result.index(max(result))\n",
    "    thd_best_prob = result[thd_best_index]\n",
    "    \n",
    "    return best_prob, best_index, sec_best_prob, sec_best_index, thd_best_prob, thd_best_index\n",
    "    \n",
    "def processImage(url: str, scale: bool):\n",
    "    img = Image.open(urlopen(url))\n",
    "    width, height = img.size\n",
    "    maxdim = max(width, height)\n",
    "    mindim = min(width, height)\n",
    "    offset = round((maxdim - mindim)/2) - 1\n",
    "    imgcrop = img.crop((offset, 0, (offset+mindim), mindim))\n",
    "    imgscale = imgcrop.resize((32, 32))\n",
    "    imgsquash = img.resize((32, 32))\n",
    "    f, axarr = plt.subplots(1,2)\n",
    "\n",
    "    axarr[0].imshow(img)\n",
    "    \n",
    "    if (scale):\n",
    "        img = imgscale\n",
    "    else:\n",
    "        img = imgsquash\n",
    "    \n",
    "    axarr[1].imshow(img)\n",
    "    \n",
    "    return img;"
   ]
  },
  {
   "cell_type": "code",
   "execution_count": 2,
   "metadata": {},
   "outputs": [
    {
     "ename": "NameError",
     "evalue": "name 'processImage' is not defined",
     "output_type": "error",
     "traceback": [
      "\u001b[0;31m---------------------------------------------------------------------------\u001b[0m",
      "\u001b[0;31mNameError\u001b[0m                                 Traceback (most recent call last)",
      "\u001b[0;32m<ipython-input-2-e054300c9f10>\u001b[0m in \u001b[0;36m<module>\u001b[0;34m\u001b[0m\n\u001b[1;32m      1\u001b[0m \u001b[0murl\u001b[0m \u001b[0;34m=\u001b[0m \u001b[0;34m\"https://raw.githubusercontent.com/justindav1s/ai-on-openshift/master/images/bird/bird-1.jpg\"\u001b[0m\u001b[0;34m\u001b[0m\u001b[0m\n\u001b[0;32m----> 2\u001b[0;31m \u001b[0mimg\u001b[0m \u001b[0;34m=\u001b[0m \u001b[0mprocessImage\u001b[0m\u001b[0;34m(\u001b[0m\u001b[0murl\u001b[0m\u001b[0;34m,\u001b[0m \u001b[0;32mTrue\u001b[0m\u001b[0;34m)\u001b[0m\u001b[0;34m\u001b[0m\u001b[0m\n\u001b[0m\u001b[1;32m      3\u001b[0m \u001b[0mbest_prob\u001b[0m\u001b[0;34m,\u001b[0m \u001b[0mbest_index\u001b[0m\u001b[0;34m,\u001b[0m \u001b[0msec_best_prob\u001b[0m\u001b[0;34m,\u001b[0m \u001b[0msec_best_index\u001b[0m\u001b[0;34m,\u001b[0m \u001b[0mthd_best_prob\u001b[0m\u001b[0;34m,\u001b[0m \u001b[0mthd_best_index\u001b[0m \u001b[0;34m=\u001b[0m \u001b[0mpredictImage\u001b[0m\u001b[0;34m(\u001b[0m\u001b[0mimg\u001b[0m\u001b[0;34m)\u001b[0m\u001b[0;34m\u001b[0m\u001b[0m\n\u001b[1;32m      4\u001b[0m \u001b[0mprint\u001b[0m \u001b[0;34m(\u001b[0m\u001b[0;34m\"1st prediction : \"\u001b[0m\u001b[0;34m+\u001b[0m\u001b[0mstr\u001b[0m\u001b[0;34m(\u001b[0m\u001b[0mcategories\u001b[0m\u001b[0;34m[\u001b[0m\u001b[0mbest_index\u001b[0m\u001b[0;34m]\u001b[0m\u001b[0;34m)\u001b[0m\u001b[0;34m+\u001b[0m\u001b[0;34m\" prob : \"\u001b[0m\u001b[0;34m+\u001b[0m\u001b[0;34m'{:05.3f}'\u001b[0m\u001b[0;34m.\u001b[0m\u001b[0mformat\u001b[0m\u001b[0;34m(\u001b[0m\u001b[0mbest_prob\u001b[0m\u001b[0;34m)\u001b[0m\u001b[0;34m)\u001b[0m\u001b[0;34m\u001b[0m\u001b[0m\n\u001b[1;32m      5\u001b[0m \u001b[0mprint\u001b[0m \u001b[0;34m(\u001b[0m\u001b[0;34m\"2nd prediction : \"\u001b[0m\u001b[0;34m+\u001b[0m\u001b[0mstr\u001b[0m\u001b[0;34m(\u001b[0m\u001b[0mcategories\u001b[0m\u001b[0;34m[\u001b[0m\u001b[0msec_best_index\u001b[0m\u001b[0;34m]\u001b[0m\u001b[0;34m)\u001b[0m\u001b[0;34m+\u001b[0m\u001b[0;34m\" prob : \"\u001b[0m\u001b[0;34m+\u001b[0m\u001b[0;34m'{:05.3f}'\u001b[0m\u001b[0;34m.\u001b[0m\u001b[0mformat\u001b[0m\u001b[0;34m(\u001b[0m\u001b[0msec_best_prob\u001b[0m\u001b[0;34m)\u001b[0m\u001b[0;34m)\u001b[0m\u001b[0;34m\u001b[0m\u001b[0m\n",
      "\u001b[0;31mNameError\u001b[0m: name 'processImage' is not defined"
     ]
    }
   ],
   "source": [
    "url = \"https://raw.githubusercontent.com/justindav1s/ai-on-openshift/master/images/bird/bird-1.jpg\"\n",
    "img = processImage(url, True)\n",
    "best_prob, best_index, sec_best_prob, sec_best_index, thd_best_prob, thd_best_index = predictImage(img)\n",
    "print (\"1st prediction : \"+str(categories[best_index])+\" prob : \"+'{:05.3f}'.format(best_prob))\n",
    "print (\"2nd prediction : \"+str(categories[sec_best_index])+\" prob : \"+'{:05.3f}'.format(sec_best_prob))\n",
    "print (\"3nd prediction : \"+str(categories[thd_best_index])+\" prob : \"+'{:05.3f}'.format(thd_best_prob))"
   ]
  },
  {
   "cell_type": "code",
   "execution_count": null,
   "metadata": {},
   "outputs": [],
   "source": [
    "img = processImage(url, False)\n",
    "best_prob, best_index, sec_best_prob, sec_best_index, thd_best_prob, thd_best_index = predictImage(imgarr)\n",
    "print (\"1st prediction : \"+str(categories[best_index])+\" prob : \"+'{:05.3f}'.format(best_prob))\n",
    "print (\"2nd prediction : \"+str(categories[sec_best_index])+\" prob : \"+'{:05.3f}'.format(sec_best_prob))\n",
    "print (\"3nd prediction : \"+str(categories[thd_best_index])+\" prob : \"+'{:05.3f}'.format(thd_best_prob))"
   ]
  },
  {
   "cell_type": "code",
   "execution_count": null,
   "metadata": {},
   "outputs": [],
   "source": [
    "print (categories)"
   ]
  },
  {
   "cell_type": "code",
   "execution_count": null,
   "metadata": {},
   "outputs": [],
   "source": []
  }
 ],
 "metadata": {
  "kernelspec": {
   "display_name": "Python 3",
   "language": "python",
   "name": "python3"
  },
  "language_info": {
   "codemirror_mode": {
    "name": "ipython",
    "version": 3
   },
   "file_extension": ".py",
   "mimetype": "text/x-python",
   "name": "python",
   "nbconvert_exporter": "python",
   "pygments_lexer": "ipython3",
   "version": "3.6.3"
  }
 },
 "nbformat": 4,
 "nbformat_minor": 2
}
