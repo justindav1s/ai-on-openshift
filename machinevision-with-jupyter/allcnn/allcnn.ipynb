{
 "cells": [
  {
   "cell_type": "code",
   "execution_count": 1,
   "metadata": {},
   "outputs": [
    {
     "name": "stdout",
     "output_type": "stream",
     "text": [
      "\n",
      "Keys :\n",
      "num_cases_per_batch\n",
      "label_names\n",
      "num_vis\n",
      "\n",
      "Num_cases_per_batch :\n",
      "10000\n",
      "\n",
      "Label Names :\n",
      "airplane\n",
      "automobile\n",
      "bird\n",
      "cat\n",
      "deer\n",
      "dog\n",
      "frog\n",
      "horse\n",
      "ship\n",
      "truck\n",
      "\n",
      "Num_vis :\n",
      "3072\n"
     ]
    }
   ],
   "source": [
    "import numpy as np\n",
    "import pickle\n",
    "import matplotlib.pyplot as plt\n",
    "\n",
    "\n",
    "\n",
    "import tensorflow as tf\n",
    "tf.logging.set_verbosity(tf.logging.ERROR)\n",
    "\n",
    "datapath = \"../data\"\n",
    "\n",
    "def extractImagesAndLabels(path, file):\n",
    "    f = open(path+file, 'rb')\n",
    "    dict = pickle.load(f, encoding='bytes')   \n",
    "    images = dict[b'data']\n",
    "    images = np.reshape(images, (10000, 3, 32, 32))\n",
    "    labels = dict[b'labels']\n",
    "    return images, labels\n",
    "\n",
    "def extractCategories(path, file):\n",
    "    f = open(path+file, 'rb')\n",
    "    dict = pickle.load(f, encoding='utf8')\n",
    "    \n",
    "    print('\\nKeys :')\n",
    "    for key in dict.keys():\n",
    "        print(key)\n",
    "    \n",
    "    print('\\nNum_cases_per_batch :')\n",
    "    print(dict['num_cases_per_batch'])\n",
    "    \n",
    "    print('\\nLabel Names :')\n",
    "    labels = dict['label_names']\n",
    "    for label in labels:\n",
    "        print(label)\n",
    " \n",
    "    print('\\nNum_vis :')\n",
    "    print(dict['num_vis'])\n",
    "    \n",
    "    return dict['label_names']\n",
    "\n",
    "def getDictionaryKeys(path, file):\n",
    "    f = open(path+file, 'rb')\n",
    "    dict = pickle.load(f, encoding='bytes')\n",
    "    \n",
    "    for key in dict.keys():\n",
    "        print(key)\n",
    "\n",
    "categories = extractCategories(datapath+\"/CIFAR-10/cifar-10-batches-py/\", \"batches.meta\")"
   ]
  },
  {
   "cell_type": "code",
   "execution_count": 2,
   "metadata": {},
   "outputs": [
    {
     "name": "stdout",
     "output_type": "stream",
     "text": [
      "b'batch_label'\n",
      "b'labels'\n",
      "b'data'\n",
      "b'filenames'\n"
     ]
    }
   ],
   "source": [
    "getDictionaryKeys(datapath+\"/CIFAR-10/cifar-10-batches-py/\", \"data_batch_1\")"
   ]
  },
  {
   "cell_type": "code",
   "execution_count": 3,
   "metadata": {},
   "outputs": [
    {
     "name": "stdout",
     "output_type": "stream",
     "text": [
      "loading .... \n",
      "merging .... \n",
      "10000\n",
      "(50000, 3, 32, 32)\n",
      "(50000,)\n"
     ]
    }
   ],
   "source": [
    "print ('loading .... ')\n",
    "images1, labels1 = extractImagesAndLabels(datapath+\"/CIFAR-10/cifar-10-batches-py/\", \"data_batch_1\")\n",
    "images2, labels2 = extractImagesAndLabels(datapath+\"/CIFAR-10/cifar-10-batches-py/\", \"data_batch_2\")\n",
    "images3, labels3 = extractImagesAndLabels(datapath+\"/CIFAR-10/cifar-10-batches-py/\", \"data_batch_3\")\n",
    "images4, labels4 = extractImagesAndLabels(datapath+\"/CIFAR-10/cifar-10-batches-py/\", \"data_batch_4\")\n",
    "images5, labels5 = extractImagesAndLabels(datapath+\"/CIFAR-10/cifar-10-batches-py/\", \"data_batch_5\")\n",
    "\n",
    "print ('merging .... ')\n",
    "print (len(labels1))\n",
    "images = np.vstack((images1, images2, images3, images4, images5))\n",
    "labels = np.concatenate((labels1, labels2, labels3, labels4, labels5))\n",
    "print (images.shape)\n",
    "print (labels.shape)\n",
    "testimages, testlabels = extractImagesAndLabels(datapath+\"/CIFAR-10/cifar-10-batches-py/\", \"test_batch\")"
   ]
  },
  {
   "cell_type": "code",
   "execution_count": 4,
   "metadata": {},
   "outputs": [],
   "source": [
    "images1 = None\n",
    "images2 = None\n",
    "images3 = None\n",
    "images4 = None\n",
    "images5 = None\n",
    "labels1 = None\n",
    "labels2 = None\n",
    "labels3 = None\n",
    "labels4 = None\n",
    "labels5 = None"
   ]
  },
  {
   "cell_type": "code",
   "execution_count": 5,
   "metadata": {},
   "outputs": [
    {
     "name": "stdout",
     "output_type": "stream",
     "text": [
      "(32, 32, 3)\n",
      "deer\n"
     ]
    },
    {
     "data": {
      "image/png": "[encoded data removed]",
      "text/plain": [
       "<Figure size 432x288 with 1 Axes>"
      ]
     },
     "metadata": {
      "needs_background": "light"
     },
     "output_type": "display_data"
    }
   ],
   "source": [
    "def getImage(id):\n",
    "    image = images[id]\n",
    "    image = image.transpose([1, 2, 0])\n",
    "    image = image.astype('float32')\n",
    "    image /= 255\n",
    "    return image\n",
    "\n",
    "imgid=34\n",
    "image = getImage(imgid)\n",
    "print(image.shape)\n",
    "%matplotlib inline\n",
    "imgplot = plt.imshow(image)\n",
    "categoryid = labels[imgid]\n",
    "print(categories[categoryid])"
   ]
  },
  {
   "cell_type": "code",
   "execution_count": 6,
   "metadata": {},
   "outputs": [
    {
     "name": "stdout",
     "output_type": "stream",
     "text": [
      "(50000, 3, 32, 32)\n",
      "(50000, 32, 32, 3)\n",
      "(32, 32, 3)\n",
      "airplane\n"
     ]
    },
    {
     "data": {
      "image/png": "[encoded data removed]",
      "text/plain": [
       "<Figure size 432x288 with 1 Axes>"
      ]
     },
     "metadata": {
      "needs_background": "light"
     },
     "output_type": "display_data"
    }
   ],
   "source": [
    "def getImage(id, _images):\n",
    "    print(_images.shape)\n",
    "    _images = _images.transpose([0, 2, 3, 1])\n",
    "    print(_images.shape)\n",
    "    image = _images[id]\n",
    "    image = image.astype('float32')\n",
    "    image /= 255\n",
    "    return image\n",
    "\n",
    "imgid=2345\n",
    "image = getImage(imgid, images)\n",
    "print(image.shape)\n",
    "%matplotlib inline\n",
    "imgplot = plt.imshow(image)\n",
    "categoryid = labels[imgid]\n",
    "print(categories[categoryid])"
   ]
  },
  {
   "cell_type": "code",
   "execution_count": 7,
   "metadata": {},
   "outputs": [
    {
     "name": "stderr",
     "output_type": "stream",
     "text": [
      "Using TensorFlow backend.\n"
     ]
    }
   ],
   "source": [
    "from __future__ import print_function\n",
    "import numpy as np \n",
    "np.random.seed(1337) \n",
    "\n",
    "import keras\n",
    "from keras.datasets import cifar10\n",
    "from keras.models import Model\n",
    "from keras.layers import Dense, Activation, Flatten, Input, MaxPooling2D, Dropout\n",
    "from keras.layers import Conv2D\n",
    "import h5py  # to ensure we have this package installed \n",
    "\n",
    "\n",
    "from keras.callbacks import ModelCheckpoint\n",
    "\n",
    "batch_size = 32\n",
    "num_classes = 10\n",
    "epochs = 50"
   ]
  },
  {
   "cell_type": "code",
   "execution_count": 8,
   "metadata": {},
   "outputs": [
    {
     "name": "stdout",
     "output_type": "stream",
     "text": [
      "x_train shape : (50000, 32, 32, 3)\n",
      "y_train shape : 50000\n",
      "x_test shape : (10000, 32, 32, 3)\n",
      "y_test shape : 10000\n"
     ]
    }
   ],
   "source": [
    "images = images.transpose([0, 2, 3, 1])\n",
    "testimages = testimages.transpose([0, 2, 3, 1])\n",
    "x_train = images\n",
    "y_train = labels\n",
    "x_test = testimages\n",
    "y_test = testlabels\n",
    "\n",
    "print (\"x_train shape : \"+str(x_train.shape))\n",
    "print (\"y_train shape : \"+str(len(y_train)))\n",
    "\n",
    "print (\"x_test shape : \"+str(x_test.shape))\n",
    "print (\"y_test shape : \"+str(len(y_test)))\n",
    "\n",
    "x_train = x_train.astype('float32')\n",
    "x_test = x_test.astype('float32')\n",
    "x_train /= 255\n",
    "x_test /= 255\n"
   ]
  },
  {
   "cell_type": "code",
   "execution_count": 9,
   "metadata": {},
   "outputs": [],
   "source": [
    "# Convert class vectors to binary class matrices.\n",
    "y_train = keras.utils.to_categorical(y_train, num_classes)\n",
    "y_test = keras.utils.to_categorical(y_test, num_classes)"
   ]
  },
  {
   "cell_type": "code",
   "execution_count": 10,
   "metadata": {},
   "outputs": [],
   "source": [
    "# input layer is the same as our typical CNN model \n",
    "nlayer1 = 100\n",
    "nlayer2 = 200\n",
    "nlayer3 = 300\n",
    "nlayer4 = 400\n",
    "nlayer5 = 500\n",
    "nlayer6 = 800\n",
    "\n",
    "inputs = Input(shape=(32, 32, 3))\n",
    "\n",
    "output = Conv2D(nlayer1, (2, 2), strides=(1, 1), padding='same', activation='relu')(inputs)\n",
    "output = Conv2D(nlayer1, (2, 2), strides=(1, 1), padding='same', activation='relu')(output)\n",
    "output = Conv2D(nlayer1, (2, 2), strides=(2, 2), padding='same', activation='relu')(output)\n",
    "\n",
    "output = Conv2D(nlayer2, (2, 2), strides=(1, 1), padding='same', activation='relu')(output)\n",
    "output = Dropout(0.1)(output)\n",
    "output = Conv2D(nlayer2, (2, 2), strides=(1, 1), padding='same', activation='relu')(output)\n",
    "output = Dropout(0.1)(output)\n",
    "output = Conv2D(nlayer2, (2, 2), strides=(2, 2), padding='same', activation='relu')(output)\n",
    "\n",
    "output = Conv2D(nlayer3, (2, 2), strides=(1, 1), padding='same', activation='relu')(output)\n",
    "output = Dropout(0.2)(output)\n",
    "output = Conv2D(nlayer3, (2, 2), strides=(1, 1), padding='same', activation='relu')(output)\n",
    "output = Dropout(0.2)(output)\n",
    "output = Conv2D(nlayer3, (2, 2), strides=(2, 2), padding='same', activation='relu')(output)\n",
    "\n",
    "output = Conv2D(nlayer4, (2, 2), strides=(1, 1), padding='same', activation='relu')(output)\n",
    "#output = Dropout(0.3)(output)\n",
    "output = Conv2D(nlayer4, (2, 2), strides=(1, 1), padding='same', activation='relu')(output)\n",
    "#output = Dropout(0.3)(output)\n",
    "output = Conv2D(nlayer4, (2, 2), strides=(2, 2), padding='same', activation='relu')(output)\n",
    "\n",
    "output = Conv2D(nlayer5, (2, 2), strides=(1, 1), padding='same', activation='relu')(output)\n",
    "output = Conv2D(nlayer5, (1, 1), strides=(1, 1), padding='same', activation='relu')(output)\n",
    "\n",
    "x = Flatten()(output) \n",
    "\n",
    "x = Dense(num_classes)(x) \n",
    "\n",
    "output = Activation('softmax')(x)  "
   ]
  },
  {
   "cell_type": "code",
   "execution_count": 11,
   "metadata": {},
   "outputs": [],
   "source": [
    "model = Model([inputs], output)"
   ]
  },
  {
   "cell_type": "code",
   "execution_count": 12,
   "metadata": {},
   "outputs": [
    {
     "name": "stdout",
     "output_type": "stream",
     "text": [
      "_________________________________________________________________\n",
      "Layer (type)                 Output Shape              Param #   \n",
      "=================================================================\n",
      "input_1 (InputLayer)         (None, 32, 32, 3)         0         \n",
      "_________________________________________________________________\n",
      "conv2d_1 (Conv2D)            (None, 32, 32, 100)       1300      \n",
      "_________________________________________________________________\n",
      "conv2d_2 (Conv2D)            (None, 32, 32, 100)       40100     \n",
      "_________________________________________________________________\n",
      "conv2d_3 (Conv2D)            (None, 16, 16, 100)       40100     \n",
      "_________________________________________________________________\n",
      "conv2d_4 (Conv2D)            (None, 16, 16, 200)       80200     \n",
      "_________________________________________________________________\n",
      "dropout_1 (Dropout)          (None, 16, 16, 200)       0         \n",
      "_________________________________________________________________\n",
      "conv2d_5 (Conv2D)            (None, 16, 16, 200)       160200    \n",
      "_________________________________________________________________\n",
      "dropout_2 (Dropout)          (None, 16, 16, 200)       0         \n",
      "_________________________________________________________________\n",
      "conv2d_6 (Conv2D)            (None, 8, 8, 200)         160200    \n",
      "_________________________________________________________________\n",
      "conv2d_7 (Conv2D)            (None, 8, 8, 300)         240300    \n",
      "_________________________________________________________________\n",
      "dropout_3 (Dropout)          (None, 8, 8, 300)         0         \n",
      "_________________________________________________________________\n",
      "conv2d_8 (Conv2D)            (None, 8, 8, 300)         360300    \n",
      "_________________________________________________________________\n",
      "dropout_4 (Dropout)          (None, 8, 8, 300)         0         \n",
      "_________________________________________________________________\n",
      "conv2d_9 (Conv2D)            (None, 4, 4, 300)         360300    \n",
      "_________________________________________________________________\n",
      "conv2d_10 (Conv2D)           (None, 4, 4, 400)         480400    \n",
      "_________________________________________________________________\n",
      "conv2d_11 (Conv2D)           (None, 4, 4, 400)         640400    \n",
      "_________________________________________________________________\n",
      "conv2d_12 (Conv2D)           (None, 2, 2, 400)         640400    \n",
      "_________________________________________________________________\n",
      "conv2d_13 (Conv2D)           (None, 2, 2, 500)         800500    \n",
      "_________________________________________________________________\n",
      "conv2d_14 (Conv2D)           (None, 2, 2, 500)         250500    \n",
      "_________________________________________________________________\n",
      "flatten_1 (Flatten)          (None, 2000)              0         \n",
      "_________________________________________________________________\n",
      "dense_1 (Dense)              (None, 10)                20010     \n",
      "_________________________________________________________________\n",
      "activation_1 (Activation)    (None, 10)                0         \n",
      "=================================================================\n",
      "Total params: 4,275,210\n",
      "Trainable params: 4,275,210\n",
      "Non-trainable params: 0\n",
      "_________________________________________________________________\n"
     ]
    }
   ],
   "source": [
    "model.summary()"
   ]
  },
  {
   "cell_type": "code",
   "execution_count": 13,
   "metadata": {},
   "outputs": [
    {
     "name": "stdout",
     "output_type": "stream",
     "text": [
      "Train on 50000 samples, validate on 10000 samples\n",
      "Epoch 1/50\n",
      "50000/50000 [==============================] - 90s 2ms/step - loss: 1.8322 - acc: 0.3280 - val_loss: 1.6226 - val_acc: 0.4186\n",
      "\n",
      "Epoch 00001: saving model to checkpoints/cifar10-cnnall100-01-0.42.hdf5\n",
      "Epoch 2/50\n",
      "50000/50000 [==============================] - 87s 2ms/step - loss: 1.5145 - acc: 0.4436 - val_loss: 1.3893 - val_acc: 0.4975\n",
      "\n",
      "Epoch 00002: saving model to checkpoints/cifar10-cnnall100-02-0.50.hdf5\n",
      "Epoch 3/50\n",
      "50000/50000 [==============================] - 87s 2ms/step - loss: 1.3235 - acc: 0.5196 - val_loss: 1.2610 - val_acc: 0.5346\n",
      "\n",
      "Epoch 00003: saving model to checkpoints/cifar10-cnnall100-03-0.53.hdf5\n",
      "Epoch 4/50\n",
      "50000/50000 [==============================] - 87s 2ms/step - loss: 1.1811 - acc: 0.5744 - val_loss: 1.1464 - val_acc: 0.5830\n",
      "\n",
      "Epoch 00004: saving model to checkpoints/cifar10-cnnall100-04-0.58.hdf5\n",
      "Epoch 5/50\n",
      "50000/50000 [==============================] - 87s 2ms/step - loss: 1.0595 - acc: 0.6214 - val_loss: 1.1090 - val_acc: 0.6088\n",
      "\n",
      "Epoch 00005: saving model to checkpoints/cifar10-cnnall100-05-0.61.hdf5\n",
      "Epoch 6/50\n",
      "50000/50000 [==============================] - 87s 2ms/step - loss: 0.9635 - acc: 0.6552 - val_loss: 1.1229 - val_acc: 0.6121\n",
      "\n",
      "Epoch 00006: saving model to checkpoints/cifar10-cnnall100-06-0.61.hdf5\n",
      "Epoch 7/50\n",
      "50000/50000 [==============================] - 87s 2ms/step - loss: 0.8800 - acc: 0.6854 - val_loss: 0.9419 - val_acc: 0.6716\n",
      "\n",
      "Epoch 00007: saving model to checkpoints/cifar10-cnnall100-07-0.67.hdf5\n",
      "Epoch 8/50\n",
      "50000/50000 [==============================] - 87s 2ms/step - loss: 0.8042 - acc: 0.7139 - val_loss: 0.9399 - val_acc: 0.6765\n",
      "\n",
      "Epoch 00008: saving model to checkpoints/cifar10-cnnall100-08-0.68.hdf5\n",
      "Epoch 9/50\n",
      "50000/50000 [==============================] - 87s 2ms/step - loss: 0.7310 - acc: 0.7409 - val_loss: 0.9126 - val_acc: 0.6836\n",
      "\n",
      "Epoch 00009: saving model to checkpoints/cifar10-cnnall100-09-0.68.hdf5\n",
      "Epoch 10/50\n",
      "50000/50000 [==============================] - 87s 2ms/step - loss: 0.6667 - acc: 0.7640 - val_loss: 0.9772 - val_acc: 0.6730\n",
      "\n",
      "Epoch 00010: saving model to checkpoints/cifar10-cnnall100-10-0.67.hdf5\n",
      "Epoch 11/50\n",
      "50000/50000 [==============================] - 87s 2ms/step - loss: 0.5975 - acc: 0.7860 - val_loss: 0.9505 - val_acc: 0.6811\n",
      "\n",
      "Epoch 00011: saving model to checkpoints/cifar10-cnnall100-11-0.68.hdf5\n",
      "Epoch 12/50\n",
      "50000/50000 [==============================] - 87s 2ms/step - loss: 0.5340 - acc: 0.8106 - val_loss: 0.9690 - val_acc: 0.6871\n",
      "\n",
      "Epoch 00012: saving model to checkpoints/cifar10-cnnall100-12-0.69.hdf5\n",
      "Epoch 13/50\n",
      "50000/50000 [==============================] - 87s 2ms/step - loss: 0.4678 - acc: 0.8345 - val_loss: 0.9337 - val_acc: 0.7013\n",
      "\n",
      "Epoch 00013: saving model to checkpoints/cifar10-cnnall100-13-0.70.hdf5\n",
      "Epoch 14/50\n",
      "50000/50000 [==============================] - 87s 2ms/step - loss: 0.4091 - acc: 0.8547 - val_loss: 0.9795 - val_acc: 0.7052\n",
      "\n",
      "Epoch 00014: saving model to checkpoints/cifar10-cnnall100-14-0.71.hdf5\n",
      "Epoch 15/50\n",
      "50000/50000 [==============================] - 87s 2ms/step - loss: 0.3531 - acc: 0.8754 - val_loss: 1.0491 - val_acc: 0.7074\n",
      "\n",
      "Epoch 00015: saving model to checkpoints/cifar10-cnnall100-15-0.71.hdf5\n",
      "Epoch 16/50\n",
      "50000/50000 [==============================] - 87s 2ms/step - loss: 0.3049 - acc: 0.8920 - val_loss: 1.1138 - val_acc: 0.6987\n",
      "\n",
      "Epoch 00016: saving model to checkpoints/cifar10-cnnall100-16-0.70.hdf5\n",
      "Epoch 17/50\n",
      "50000/50000 [==============================] - 87s 2ms/step - loss: 0.2643 - acc: 0.9085 - val_loss: 1.2347 - val_acc: 0.7027\n",
      "\n",
      "Epoch 00017: saving model to checkpoints/cifar10-cnnall100-17-0.70.hdf5\n",
      "Epoch 18/50\n",
      "50000/50000 [==============================] - 87s 2ms/step - loss: 0.2282 - acc: 0.9211 - val_loss: 1.2949 - val_acc: 0.7069\n",
      "\n",
      "Epoch 00018: saving model to checkpoints/cifar10-cnnall100-18-0.71.hdf5\n",
      "Epoch 19/50\n",
      "50000/50000 [==============================] - 87s 2ms/step - loss: 0.2057 - acc: 0.9290 - val_loss: 1.3846 - val_acc: 0.7139\n",
      "\n",
      "Epoch 00019: saving model to checkpoints/cifar10-cnnall100-19-0.71.hdf5\n",
      "Epoch 20/50\n",
      "50000/50000 [==============================] - 87s 2ms/step - loss: 0.1873 - acc: 0.9370 - val_loss: 1.3502 - val_acc: 0.7059\n",
      "\n",
      "Epoch 00020: saving model to checkpoints/cifar10-cnnall100-20-0.71.hdf5\n",
      "Epoch 21/50\n",
      "50000/50000 [==============================] - 87s 2ms/step - loss: 0.1755 - acc: 0.9407 - val_loss: 1.4651 - val_acc: 0.7041\n",
      "\n",
      "Epoch 00021: saving model to checkpoints/cifar10-cnnall100-21-0.70.hdf5\n",
      "Epoch 22/50\n",
      "50000/50000 [==============================] - 87s 2ms/step - loss: 0.1684 - acc: 0.9435 - val_loss: 1.9958 - val_acc: 0.7068\n",
      "\n",
      "Epoch 00022: saving model to checkpoints/cifar10-cnnall100-22-0.71.hdf5\n",
      "Epoch 23/50\n",
      " 2656/50000 [>.............................] - ETA: 1:18 - loss: 0.1528 - acc: 0.9507"
     ]
    },
    {
     "ename": "KeyboardInterrupt",
     "evalue": "",
     "output_type": "error",
     "traceback": [
      "\u001b[0;31m---------------------------------------------------------------------------\u001b[0m",
      "\u001b[0;31mKeyboardInterrupt\u001b[0m                         Traceback (most recent call last)",
      "\u001b[0;32m<ipython-input-13-95521d0088c4>\u001b[0m in \u001b[0;36m<module>\u001b[0;34m\u001b[0m\n\u001b[1;32m     17\u001b[0m           \u001b[0mepochs\u001b[0m\u001b[0;34m=\u001b[0m\u001b[0mepochs\u001b[0m\u001b[0;34m,\u001b[0m\u001b[0;34m\u001b[0m\u001b[0m\n\u001b[1;32m     18\u001b[0m           \u001b[0mvalidation_data\u001b[0m\u001b[0;34m=\u001b[0m\u001b[0;34m(\u001b[0m\u001b[0mx_test\u001b[0m\u001b[0;34m,\u001b[0m \u001b[0my_test\u001b[0m\u001b[0;34m)\u001b[0m\u001b[0;34m,\u001b[0m\u001b[0;34m\u001b[0m\u001b[0m\n\u001b[0;32m---> 19\u001b[0;31m           callbacks=[checkpoint])\n\u001b[0m",
      "\u001b[0;32m/opt/app-root/lib/python3.6/site-packages/keras/engine/training.py\u001b[0m in \u001b[0;36mfit\u001b[0;34m(self, x, y, batch_size, epochs, verbose, callbacks, validation_split, validation_data, shuffle, class_weight, sample_weight, initial_epoch, steps_per_epoch, validation_steps, **kwargs)\u001b[0m\n\u001b[1;32m   1037\u001b[0m                                         \u001b[0minitial_epoch\u001b[0m\u001b[0;34m=\u001b[0m\u001b[0minitial_epoch\u001b[0m\u001b[0;34m,\u001b[0m\u001b[0;34m\u001b[0m\u001b[0m\n\u001b[1;32m   1038\u001b[0m                                         \u001b[0msteps_per_epoch\u001b[0m\u001b[0;34m=\u001b[0m\u001b[0msteps_per_epoch\u001b[0m\u001b[0;34m,\u001b[0m\u001b[0;34m\u001b[0m\u001b[0m\n\u001b[0;32m-> 1039\u001b[0;31m                                         validation_steps=validation_steps)\n\u001b[0m\u001b[1;32m   1040\u001b[0m \u001b[0;34m\u001b[0m\u001b[0m\n\u001b[1;32m   1041\u001b[0m     def evaluate(self, x=None, y=None,\n",
      "\u001b[0;32m/opt/app-root/lib/python3.6/site-packages/keras/engine/training_arrays.py\u001b[0m in \u001b[0;36mfit_loop\u001b[0;34m(model, f, ins, out_labels, batch_size, epochs, verbose, callbacks, val_f, val_ins, shuffle, callback_metrics, initial_epoch, steps_per_epoch, validation_steps)\u001b[0m\n\u001b[1;32m    197\u001b[0m                     \u001b[0mins_batch\u001b[0m\u001b[0;34m[\u001b[0m\u001b[0mi\u001b[0m\u001b[0;34m]\u001b[0m \u001b[0;34m=\u001b[0m \u001b[0mins_batch\u001b[0m\u001b[0;34m[\u001b[0m\u001b[0mi\u001b[0m\u001b[0;34m]\u001b[0m\u001b[0;34m.\u001b[0m\u001b[0mtoarray\u001b[0m\u001b[0;34m(\u001b[0m\u001b[0;34m)\u001b[0m\u001b[0;34m\u001b[0m\u001b[0m\n\u001b[1;32m    198\u001b[0m \u001b[0;34m\u001b[0m\u001b[0m\n\u001b[0;32m--> 199\u001b[0;31m                 \u001b[0mouts\u001b[0m \u001b[0;34m=\u001b[0m \u001b[0mf\u001b[0m\u001b[0;34m(\u001b[0m\u001b[0mins_batch\u001b[0m\u001b[0;34m)\u001b[0m\u001b[0;34m\u001b[0m\u001b[0m\n\u001b[0m\u001b[1;32m    200\u001b[0m                 \u001b[0mouts\u001b[0m \u001b[0;34m=\u001b[0m \u001b[0mto_list\u001b[0m\u001b[0;34m(\u001b[0m\u001b[0mouts\u001b[0m\u001b[0;34m)\u001b[0m\u001b[0;34m\u001b[0m\u001b[0m\n\u001b[1;32m    201\u001b[0m                 \u001b[0;32mfor\u001b[0m \u001b[0ml\u001b[0m\u001b[0;34m,\u001b[0m \u001b[0mo\u001b[0m \u001b[0;32min\u001b[0m \u001b[0mzip\u001b[0m\u001b[0;34m(\u001b[0m\u001b[0mout_labels\u001b[0m\u001b[0;34m,\u001b[0m \u001b[0mouts\u001b[0m\u001b[0;34m)\u001b[0m\u001b[0;34m:\u001b[0m\u001b[0;34m\u001b[0m\u001b[0m\n",
      "\u001b[0;32m/opt/app-root/lib/python3.6/site-packages/keras/backend/tensorflow_backend.py\u001b[0m in \u001b[0;36m__call__\u001b[0;34m(self, inputs)\u001b[0m\n\u001b[1;32m   2713\u001b[0m                 \u001b[0;32mreturn\u001b[0m \u001b[0mself\u001b[0m\u001b[0;34m.\u001b[0m\u001b[0m_legacy_call\u001b[0m\u001b[0;34m(\u001b[0m\u001b[0minputs\u001b[0m\u001b[0;34m)\u001b[0m\u001b[0;34m\u001b[0m\u001b[0m\n\u001b[1;32m   2714\u001b[0m \u001b[0;34m\u001b[0m\u001b[0m\n\u001b[0;32m-> 2715\u001b[0;31m             \u001b[0;32mreturn\u001b[0m \u001b[0mself\u001b[0m\u001b[0;34m.\u001b[0m\u001b[0m_call\u001b[0m\u001b[0;34m(\u001b[0m\u001b[0minputs\u001b[0m\u001b[0;34m)\u001b[0m\u001b[0;34m\u001b[0m\u001b[0m\n\u001b[0m\u001b[1;32m   2716\u001b[0m         \u001b[0;32melse\u001b[0m\u001b[0;34m:\u001b[0m\u001b[0;34m\u001b[0m\u001b[0m\n\u001b[1;32m   2717\u001b[0m             \u001b[0;32mif\u001b[0m \u001b[0mpy_any\u001b[0m\u001b[0;34m(\u001b[0m\u001b[0mis_tensor\u001b[0m\u001b[0;34m(\u001b[0m\u001b[0mx\u001b[0m\u001b[0;34m)\u001b[0m \u001b[0;32mfor\u001b[0m \u001b[0mx\u001b[0m \u001b[0;32min\u001b[0m \u001b[0minputs\u001b[0m\u001b[0;34m)\u001b[0m\u001b[0;34m:\u001b[0m\u001b[0;34m\u001b[0m\u001b[0m\n",
      "\u001b[0;32m/opt/app-root/lib/python3.6/site-packages/keras/backend/tensorflow_backend.py\u001b[0m in \u001b[0;36m_call\u001b[0;34m(self, inputs)\u001b[0m\n\u001b[1;32m   2673\u001b[0m             \u001b[0mfetched\u001b[0m \u001b[0;34m=\u001b[0m \u001b[0mself\u001b[0m\u001b[0;34m.\u001b[0m\u001b[0m_callable_fn\u001b[0m\u001b[0;34m(\u001b[0m\u001b[0;34m*\u001b[0m\u001b[0marray_vals\u001b[0m\u001b[0;34m,\u001b[0m \u001b[0mrun_metadata\u001b[0m\u001b[0;34m=\u001b[0m\u001b[0mself\u001b[0m\u001b[0;34m.\u001b[0m\u001b[0mrun_metadata\u001b[0m\u001b[0;34m)\u001b[0m\u001b[0;34m\u001b[0m\u001b[0m\n\u001b[1;32m   2674\u001b[0m         \u001b[0;32melse\u001b[0m\u001b[0;34m:\u001b[0m\u001b[0;34m\u001b[0m\u001b[0m\n\u001b[0;32m-> 2675\u001b[0;31m             \u001b[0mfetched\u001b[0m \u001b[0;34m=\u001b[0m \u001b[0mself\u001b[0m\u001b[0;34m.\u001b[0m\u001b[0m_callable_fn\u001b[0m\u001b[0;34m(\u001b[0m\u001b[0;34m*\u001b[0m\u001b[0marray_vals\u001b[0m\u001b[0;34m)\u001b[0m\u001b[0;34m\u001b[0m\u001b[0m\n\u001b[0m\u001b[1;32m   2676\u001b[0m         \u001b[0;32mreturn\u001b[0m \u001b[0mfetched\u001b[0m\u001b[0;34m[\u001b[0m\u001b[0;34m:\u001b[0m\u001b[0mlen\u001b[0m\u001b[0;34m(\u001b[0m\u001b[0mself\u001b[0m\u001b[0;34m.\u001b[0m\u001b[0moutputs\u001b[0m\u001b[0;34m)\u001b[0m\u001b[0;34m]\u001b[0m\u001b[0;34m\u001b[0m\u001b[0m\n\u001b[1;32m   2677\u001b[0m \u001b[0;34m\u001b[0m\u001b[0m\n",
      "\u001b[0;32m/opt/app-root/lib/python3.6/site-packages/tensorflow/python/client/session.py\u001b[0m in \u001b[0;36m__call__\u001b[0;34m(self, *args, **kwargs)\u001b[0m\n\u001b[1;32m   1456\u001b[0m         ret = tf_session.TF_SessionRunCallable(self._session._session,\n\u001b[1;32m   1457\u001b[0m                                                \u001b[0mself\u001b[0m\u001b[0;34m.\u001b[0m\u001b[0m_handle\u001b[0m\u001b[0;34m,\u001b[0m \u001b[0margs\u001b[0m\u001b[0;34m,\u001b[0m\u001b[0;34m\u001b[0m\u001b[0m\n\u001b[0;32m-> 1458\u001b[0;31m                                                run_metadata_ptr)\n\u001b[0m\u001b[1;32m   1459\u001b[0m         \u001b[0;32mif\u001b[0m \u001b[0mrun_metadata\u001b[0m\u001b[0;34m:\u001b[0m\u001b[0;34m\u001b[0m\u001b[0m\n\u001b[1;32m   1460\u001b[0m           \u001b[0mproto_data\u001b[0m \u001b[0;34m=\u001b[0m \u001b[0mtf_session\u001b[0m\u001b[0;34m.\u001b[0m\u001b[0mTF_GetBuffer\u001b[0m\u001b[0;34m(\u001b[0m\u001b[0mrun_metadata_ptr\u001b[0m\u001b[0;34m)\u001b[0m\u001b[0;34m\u001b[0m\u001b[0m\n",
      "\u001b[0;31mKeyboardInterrupt\u001b[0m: "
     ]
    }
   ],
   "source": [
    "# initiate RMSprop optimizer\n",
    "opt = keras.optimizers.rmsprop(lr=0.0001, decay=1e-6)\n",
    "\n",
    "# Let's train the model using RMSprop\n",
    "model.compile(loss='categorical_crossentropy',\n",
    "              optimizer=opt,\n",
    "              metrics=['accuracy'])\n",
    "\n",
    "filepath=\"checkpoints/cifar10-cnnall100-{epoch:02d}-{val_acc:.2f}.hdf5\"\n",
    "checkpoint = ModelCheckpoint(filepath, \n",
    "                             monitor='val_acc', \n",
    "                             verbose=1, \n",
    "                             mode='max')\n",
    "\n",
    "model.fit(x_train, y_train,\n",
    "          batch_size=batch_size,\n",
    "          epochs=epochs,\n",
    "          validation_data=(x_test, y_test),\n",
    "          callbacks=[checkpoint])"
   ]
  },
  {
   "cell_type": "code",
   "execution_count": null,
   "metadata": {},
   "outputs": [],
   "source": [
    "model_json = model.to_json()\n",
    "with open(\"model.json\", \"w\") as json_file:\n",
    "    json_file.write(model_json)\n",
    "# serialize weights to HDF5\n",
    "model.save_weights(\"model.h5\")\n",
    "print(\"Saved model to disk\")"
   ]
  }
 ],
 "metadata": {
  "kernelspec": {
   "display_name": "Python 3",
   "language": "python",
   "name": "python3"
  },
  "language_info": {
   "codemirror_mode": {
    "name": "ipython",
    "version": 3
   },
   "file_extension": ".py",
   "mimetype": "text/x-python",
   "name": "python",
   "nbconvert_exporter": "python",
   "pygments_lexer": "ipython3",
   "version": "3.6.3"
  }
 },
 "nbformat": 4,
 "nbformat_minor": 2
}
