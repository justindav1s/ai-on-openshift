{
 "cells": [
  {
   "cell_type": "code",
   "execution_count": 39,
   "metadata": {},
   "outputs": [
    {
     "name": "stdout",
     "output_type": "stream",
     "text": [
      "done\n"
     ]
    }
   ],
   "source": [
    "from __future__ import print_function\n",
    "import numpy as np\n",
    "import cv2\n",
    "import cPickle\n",
    "import matplotlib.pyplot as plt\n",
    "from keras.models import model_from_json\n",
    "import PIL\n",
    "from PIL import Image\n",
    "\n",
    "def extractImagesAndLabels(path, file):\n",
    "    f = open(path+file, 'rb')\n",
    "    dict = cPickle.load(f)\n",
    "    images = dict['data']\n",
    "    images = np.reshape(images, (10000, 3, 32, 32))\n",
    "    labels = dict['labels']\n",
    "    return images, labels\n",
    "\n",
    "def extractCategories(path, file):\n",
    "    f = open(path+file, 'rb')\n",
    "    dict = cPickle.load(f)\n",
    "    return dict['label_names']\n",
    "\n",
    "def getImage(images, id):\n",
    "    image = images[id]\n",
    "    image = image.transpose([1, 2, 0])\n",
    "    image = image.astype('float32')\n",
    "    image /= 255\n",
    "    return image\n",
    "\n",
    "def loadModel(json_desc, weights):\n",
    "    # load json and create model\n",
    "    json_file = open(json_desc, 'r')\n",
    "    loaded_model_json = json_file.read()\n",
    "    json_file.close()\n",
    "    loaded_model = model_from_json(loaded_model_json)\n",
    "    # load weights into new model\n",
    "    loaded_model.load_weights(weights)\n",
    "    return loaded_model\n",
    "    \n",
    "def showImage(id):\n",
    "    image = getImage(images,id)\n",
    "    print (image.shape)\n",
    "    %matplotlib inline\n",
    "    imgplot = plt.imshow(image)\n",
    "    labelid = labels[id]\n",
    "    category = categories[labelid]\n",
    "    print(\"category : \"+category)    \n",
    "\n",
    "def predictImage(id):\n",
    "    image = getImage(images, id)\n",
    "    showImage(id)\n",
    "    image = np.expand_dims(image, axis=0)\n",
    "    print (image.shape)\n",
    "    print (image)\n",
    "    result = model.predict(image)\n",
    "    result = result[0].tolist()\n",
    "    best_index=result.index(max(result))\n",
    "    print (\"prediction : \"+categories[best_index])\n",
    "    i=0\n",
    "    while (i < 10):\n",
    "        print (str(categories[i])+\" : \"+str(result[i]))\n",
    "        i+=1\n",
    "    \n",
    "    \n",
    "model = loadModel('models/allconv-model.json', 'models/allconv-weights-90.hdf5') \n",
    "images, labels = extractImagesAndLabels(\"data/CIFAR-10/cifar-10-batches-py/\", \"test_batch\")\n",
    "categories = extractCategories(\"data/CIFAR-10/cifar-10-batches-py/\", \"batches.meta\")\n",
    "print(\"done\")"
   ]
  },
  {
   "cell_type": "code",
   "execution_count": 40,
   "metadata": {
    "scrolled": true
   },
   "outputs": [
    {
     "name": "stdout",
     "output_type": "stream",
     "text": [
      "(32, 32, 3)\n",
      "category : bird\n",
      "(1, 32, 32, 3)\n",
      "[[[[0.58431375 0.6        0.77254903]\n",
      "   [0.6117647  0.6313726  0.8117647 ]\n",
      "   [0.6666667  0.7176471  0.88235295]\n",
      "   ...\n",
      "   [0.67058825 0.7137255  0.9490196 ]\n",
      "   [0.67058825 0.7137255  0.94509804]\n",
      "   [0.6666667  0.70980394 0.9372549 ]]\n",
      "\n",
      "  [[0.5254902  0.5019608  0.64705884]\n",
      "   [0.5921569  0.58431375 0.7176471 ]\n",
      "   [0.63529414 0.6392157  0.7647059 ]\n",
      "   ...\n",
      "   [0.6666667  0.69803923 0.9098039 ]\n",
      "   [0.6666667  0.69411767 0.90588236]\n",
      "   [0.65882355 0.69411767 0.89411765]]\n",
      "\n",
      "  [[0.52156866 0.5137255  0.6117647 ]\n",
      "   [0.5019608  0.46666667 0.54509807]\n",
      "   [0.6313726  0.627451   0.7058824 ]\n",
      "   ...\n",
      "   [0.67058825 0.6901961  0.85882354]\n",
      "   [0.67058825 0.6901961  0.85882354]\n",
      "   [0.6666667  0.6862745  0.8509804 ]]\n",
      "\n",
      "  ...\n",
      "\n",
      "  [[0.76862746 0.6509804  0.5921569 ]\n",
      "   [0.7607843  0.627451   0.5686275 ]\n",
      "   [0.76862746 0.627451   0.5647059 ]\n",
      "   ...\n",
      "   [0.7372549  0.61960787 0.59607846]\n",
      "   [0.6862745  0.5647059  0.54509807]\n",
      "   [0.67058825 0.5411765  0.5176471 ]]\n",
      "\n",
      "  [[0.76862746 0.6509804  0.6039216 ]\n",
      "   [0.7607843  0.627451   0.5803922 ]\n",
      "   [0.7647059  0.62352943 0.5803922 ]\n",
      "   ...\n",
      "   [0.72156864 0.60784316 0.59607846]\n",
      "   [0.65882355 0.54509807 0.53333336]\n",
      "   [0.6666667  0.54901963 0.5294118 ]]\n",
      "\n",
      "  [[0.7607843  0.6392157  0.6039216 ]\n",
      "   [0.75686276 0.61960787 0.58431375]\n",
      "   [0.7607843  0.61960787 0.58431375]\n",
      "   ...\n",
      "   [0.6666667  0.6156863  0.6039216 ]\n",
      "   [0.6        0.5137255  0.5019608 ]\n",
      "   [0.64705884 0.52156866 0.50980395]]]]\n",
      "prediction : bird\n",
      "airplane : 0.00402062991634\n",
      "automobile : 1.09006192961e-10\n",
      "bird : 0.995978593826\n",
      "cat : 1.01212432532e-11\n",
      "deer : 9.76827397182e-14\n",
      "dog : 1.37584063066e-13\n",
      "frog : 4.19389458058e-13\n",
      "horse : 6.11641898289e-15\n",
      "ship : 7.24032986454e-07\n",
      "truck : 1.87321647083e-09\n"
     ]
    },
    {
     "data": {
      "image/png": "[encoded data removed]",
      "text/plain": [
       "<Figure size 432x288 with 1 Axes>"
      ]
     },
     "metadata": {
      "needs_background": "light"
     },
     "output_type": "display_data"
    }
   ],
   "source": [
    "predictImage(129)"
   ]
  },
  {
   "cell_type": "code",
   "execution_count": 73,
   "metadata": {},
   "outputs": [
    {
     "name": "stdout",
     "output_type": "stream",
     "text": [
      "prediction : cat\n",
      "airplane : 6.46880772866e-24\n",
      "automobile : 1.68293218937e-23\n",
      "bird : 1.0320243303e-19\n",
      "cat : 0.999976754189\n",
      "deer : 1.77428935998e-19\n",
      "dog : 2.32851543842e-05\n",
      "frog : 8.40160885822e-19\n",
      "horse : 4.93272697402e-18\n",
      "ship : 1.57753485041e-23\n",
      "truck : 1.56264312859e-18\n"
     ]
    },
    {
     "data": {
      "image/png": "[encoded data removed]",
      "text/plain": [
       "<Figure size 432x288 with 1 Axes>"
      ]
     },
     "metadata": {
      "needs_background": "light"
     },
     "output_type": "display_data"
    }
   ],
   "source": [
    "#load image\n",
    "import urllib\n",
    "url1=\"http://www.locationsphotography.co.uk/wp-content/uploads/2017/07/Truck-Professional-Photography-Square-Tile2-400x400.jpg\"\n",
    "url2=\"http://p3ky.com/wp-content/uploads/2017/11/LWC-Truck_Square.jpg\"\n",
    "url3=\"https://encrypted-tbn0.gstatic.com/images?q=tbn:ANd9GcQ7a70Fqqx6WaWOEUg1irrgzLQvJX0B7Bx8SQVStKwpjEe7-RVhpg\"\n",
    "url4=\"https://rlv.zcache.co.uk/semi_truck_cab_square_sticker-rfe992504321541beaefdc3263c2b65d1_v9wf3_8byvr_400.jpg\"\n",
    "url5=\"https://www.iotsolutionprovider.com/sites/iotsolutionprovider/files/articles/Fleet%20Management_square.jpg\"\n",
    "url6=\"https://rlv.zcache.com/red_dump_truck_boy_construction_birthday_party_square_sticker-r93c318e9d4f64dc3888bff21f6fa88d6_v9i40_8byvr_400.jpg\"\n",
    "url7=\"https://encrypted-tbn0.gstatic.com/images?q=tbn:ANd9GcQaqBfc5b78ED6bM8gN2yn47O1ph6JP5ix8OE82MP8z8klCHAtU\"\n",
    "url8=\"https://encrypted-tbn0.gstatic.com/images?q=tbn:ANd9GcQO4SYXHBQOcmWIS3DoQRvBN2EI9V_kGyUz74qs30LwIVqmTTya\"\n",
    "url9=\"https://www.trossachs-sar.com/pubd/images/square.58d8deb4-RN-Sea-king-6.jpg\"\n",
    "url10=\"https://www.picclickimg.com/d/l400/pict/123325311402_/New-Fall-Dog-Ride-old-Blue-Truck-wood.jpg\"\n",
    "url11=\"https://cdn.shopify.com/s/files/1/1132/0194/files/District_Mobile_Slider_truck_400x.jpg?v=1517957865\"\n",
    "url12=\"https://i.pinimg.com/736x/bb/46/1a/bb461a25fdcb613e88f4b130b17842d4--scottish-terrier-ranges.jpg\"\n",
    "\n",
    "url12=\"https://www.arlingtondogandcat.com/imagebank/eVetSites/DogCats/052016_EVS_CatDog5.jpg\"\n",
    "\n",
    "url = url12\n",
    "\n",
    "img = Image.open(urllib.urlopen(url))\n",
    "img = img.resize((32, 32), PIL.Image.ANTIALIAS)\n",
    "img = img.convert('RGB')\n",
    "\n",
    "#img.save('images/test.png', 'PNG')\n",
    "#img = Image.open( 'images/test.png' )\n",
    "#img.load()\n",
    "\n",
    "#show image\n",
    "%matplotlib inline\n",
    "imgplot = plt.imshow(img)\n",
    "\n",
    "#process image data\n",
    "data = np.reshape(img, (1, 32, 32, 3))\n",
    "data = data.astype('float32')\n",
    "data /= 255\n",
    "\n",
    "#make prediction\n",
    "result = model.predict(data)\n",
    "result = result[0].tolist()\n",
    "best_index=result.index(max(result))\n",
    "\n",
    "#print result\n",
    "print (\"prediction : \"+categories[best_index])\n",
    "i=0\n",
    "while (i < 10):\n",
    "    print (str(categories[i])+\" : \"+str(result[i]))\n",
    "    i+=1"
   ]
  },
  {
   "cell_type": "code",
   "execution_count": null,
   "metadata": {},
   "outputs": [],
   "source": []
  },
  {
   "cell_type": "code",
   "execution_count": null,
   "metadata": {},
   "outputs": [],
   "source": []
  },
  {
   "cell_type": "code",
   "execution_count": null,
   "metadata": {},
   "outputs": [],
   "source": []
  },
  {
   "cell_type": "code",
   "execution_count": null,
   "metadata": {},
   "outputs": [],
   "source": []
  },
  {
   "cell_type": "code",
   "execution_count": null,
   "metadata": {},
   "outputs": [],
   "source": []
  }
 ],
 "metadata": {
  "kernelspec": {
   "display_name": "Python 3",
   "language": "python",
   "name": "python3"
  },
  "language_info": {
   "codemirror_mode": {
    "name": "ipython",
    "version": 3
   },
   "file_extension": ".py",
   "mimetype": "text/x-python",
   "name": "python",
   "nbconvert_exporter": "python",
   "pygments_lexer": "ipython3",
   "version": "3.6.3"
  }
 },
 "nbformat": 4,
 "nbformat_minor": 2
}
