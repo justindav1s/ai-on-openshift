{
 "cells": [
  {
   "cell_type": "code",
   "execution_count": 45,
   "metadata": {
    "scrolled": true
   },
   "outputs": [
    {
     "name": "stdout",
     "output_type": "stream",
     "text": [
      "Requirement already satisfied: opencv-python in /usr/local/lib/python2.7/dist-packages (3.4.3.18)\n",
      "Requirement already satisfied: wget in /usr/local/lib/python2.7/dist-packages (3.2)\n",
      "Requirement already satisfied: matplotlib in /usr/local/lib/python2.7/dist-packages (2.2.3)\n",
      "Requirement already satisfied: numpy>=1.11.1 in /usr/local/lib/python2.7/dist-packages (from opencv-python) (1.15.2)\n",
      "Requirement already satisfied: pyparsing!=2.0.4,!=2.1.2,!=2.1.6,>=2.0.1 in /usr/local/lib/python2.7/dist-packages (from matplotlib) (2.2.1)\n",
      "Requirement already satisfied: backports.functools-lru-cache in /usr/local/lib/python2.7/dist-packages (from matplotlib) (1.5)\n",
      "Requirement already satisfied: subprocess32 in /usr/local/lib/python2.7/dist-packages (from matplotlib) (3.5.2)\n",
      "Requirement already satisfied: pytz in /usr/local/lib/python2.7/dist-packages (from matplotlib) (2018.5)\n",
      "Requirement already satisfied: six>=1.10 in /usr/local/lib/python2.7/dist-packages (from matplotlib) (1.11.0)\n",
      "Requirement already satisfied: python-dateutil>=2.1 in /usr/local/lib/python2.7/dist-packages (from matplotlib) (2.7.3)\n",
      "Requirement already satisfied: kiwisolver>=1.0.1 in /usr/local/lib/python2.7/dist-packages (from matplotlib) (1.0.1)\n",
      "Requirement already satisfied: cycler>=0.10 in /usr/local/lib/python2.7/dist-packages (from matplotlib) (0.10.0)\n",
      "Requirement already satisfied: setuptools in /usr/local/lib/python2.7/dist-packages (from kiwisolver>=1.0.1->matplotlib) (39.1.0)\n",
      "\u001b[33mYou are using pip version 18.0, however version 18.1 is available.\n",
      "You should consider upgrading via the 'pip install --upgrade pip' command.\u001b[0m\n"
     ]
    }
   ],
   "source": [
    "!pip install opencv-python wget matplotlib\n",
    "#!apt update && apt install -y libsm6 libxext6 libgtk2.0-dev"
   ]
  },
  {
   "cell_type": "code",
   "execution_count": 64,
   "metadata": {},
   "outputs": [
    {
     "name": "stdout",
     "output_type": "stream",
     "text": [
      "category : bird\n"
     ]
    },
    {
     "data": {
      "image/png": "[encoded data removed]",
      "text/plain": [
       "<Figure size 432x288 with 1 Axes>"
      ]
     },
     "metadata": {
      "needs_background": "light"
     },
     "output_type": "display_data"
    }
   ],
   "source": [
    "import numpy as np\n",
    "import cv2\n",
    "import cPickle\n",
    "import matplotlib.pyplot as plt\n",
    "\n",
    "\n",
    "def extractImagesAndLabels(path, file):\n",
    "    f = open(path+file, 'rb')\n",
    "    dict = cPickle.load(f)\n",
    "    images = dict['data']\n",
    "    images = np.reshape(images, (10000, 3, 32, 32))\n",
    "    labels = dict['labels']\n",
    "    return images, labels\n",
    "\n",
    "def extractCategories(path, file):\n",
    "    f = open(path+file, 'rb')\n",
    "    dict = cPickle.load(f)\n",
    "    return dict['label_names']\n",
    "\n",
    "def saveCifarImage(array, path, file):\n",
    "    # array is 3x32x32. cv2 needs 32x32x3\n",
    "    array = array.asnumpy().transpose(1,2,0)\n",
    "    # array is RGB. cv2 needs BGR\n",
    "    array = cv2.cvtColor(array, cv2.COLOR_RGB2BGR)\n",
    "    # save to PNG file\n",
    "    return cv2.imwrite(path+file+\".png\", array)\n",
    "\n",
    "images, labels = extractImagesAndLabels(\"../data/CIFAR-10/cifar-10-batches-py/\", \"test_batch\")\n",
    "categories = extractCategories(\"../data/CIFAR-10/cifar-10-batches-py/\", \"batches.meta\")\n",
    "\n",
    "def getImage(images, id):\n",
    "    image = images[id]\n",
    "    image = image.transpose([1, 2, 0])\n",
    "    image = image.astype('float32')\n",
    "    image /= 255\n",
    "    return image\n",
    "\n",
    "imgid=160\n",
    "image = getImage(images, imgid)\n",
    "%matplotlib inline\n",
    "imgplot = plt.imshow(image)\n",
    "\n",
    "labelid = labels[imgid]\n",
    "category = categories[labelid]\n",
    "print(\"category : \"+category)\n",
    "\n",
    "#ret=saveCifarImage(imgarray[imgid], \"../data/CIFAR-10/\", \"image\"+(str)(imgid))"
   ]
  },
  {
   "cell_type": "code",
   "execution_count": 65,
   "metadata": {},
   "outputs": [
    {
     "name": "stdout",
     "output_type": "stream",
     "text": [
      "(1, 32, 32, 3)\n",
      "airplane : 0.17375696\n",
      "automobile : 2.284254e-08\n",
      "bird : 0.4777859\n",
      "cat : 0.34566244\n",
      "deer : 0.0017572587\n",
      "dog : 0.0007596723\n",
      "frog : 3.7490892e-05\n",
      "horse : 0.00018700845\n",
      "ship : 5.256496e-05\n",
      "truck : 6.281843e-07\n"
     ]
    }
   ],
   "source": [
    "from __future__ import print_function\n",
    "import numpy as np\n",
    "import keras\n",
    "from keras.models import Sequential\n",
    "from keras.models import Model\n",
    "from keras.layers import Dense, Activation, Flatten, Input, MaxPooling2D\n",
    "from keras.layers import Conv2D\n",
    "\n",
    "num_classes = 10\n",
    "\n",
    "inputs = Input(shape=(32, 32, 3))\n",
    "\n",
    "## ----------- Inception --------- \n",
    "\n",
    "tower_1 = Conv2D(64, (1, 1), padding='same', activation='relu')(inputs)\n",
    "tower_1 = Conv2D(64, (3, 3), padding='same', activation='relu', name='t1_conv')(tower_1)\n",
    "\n",
    "tower_2 = Conv2D(64, (1, 1), padding='same', activation='relu')(inputs)\n",
    "tower_2 = Conv2D(64, (5, 5), padding='same', activation='relu')(tower_2)\n",
    "\n",
    "tower_3 = MaxPooling2D((3, 3), strides=(1, 1), padding='same')(inputs)\n",
    "tower_3 = Conv2D(64, (1, 1), padding='same', activation='relu')(tower_3)\n",
    "\n",
    "x = keras.layers.concatenate([tower_1, tower_2, tower_3], axis=1) \n",
    "\n",
    "## ----------- Inception --------- \n",
    "\n",
    "x = Conv2D(8, (3, 3))(x)    \n",
    "x = Activation('relu')(x) \n",
    "x = MaxPooling2D(pool_size=(2, 2))(x) \n",
    "x = Flatten()(x) \n",
    "\n",
    "x = Dense(num_classes)(x) \n",
    "\n",
    "output = Activation('softmax')(x)\n",
    "model = Model([inputs], output)\n",
    "#model.summary()\n",
    "\n",
    "model.load_weights(\"../checkpoints/cifar10-inception-106-0.68.hdf5\")\n",
    "#print(image.shape)\n",
    "image = np.expand_dims(image, axis=0)\n",
    "print(image.shape)\n",
    "#print (categories)\n",
    "result = model.predict(image)\n",
    "\n",
    "i=0\n",
    "while (i < 10):\n",
    "    print (str(categories[i])+\" : \"+str(result[0][i]))\n",
    "    i+=1\n",
    "           \n"
   ]
  },
  {
   "cell_type": "code",
   "execution_count": null,
   "metadata": {},
   "outputs": [],
   "source": []
  },
  {
   "cell_type": "code",
   "execution_count": null,
   "metadata": {},
   "outputs": [],
   "source": []
  }
 ],
 "metadata": {
  "kernelspec": {
   "display_name": "Python 3",
   "language": "python",
   "name": "python3"
  },
  "language_info": {
   "codemirror_mode": {
    "name": "ipython",
    "version": 3
   },
   "file_extension": ".py",
   "mimetype": "text/x-python",
   "name": "python",
   "nbconvert_exporter": "python",
   "pygments_lexer": "ipython3",
   "version": "3.6.3"
  }
 },
 "nbformat": 4,
 "nbformat_minor": 2
}
